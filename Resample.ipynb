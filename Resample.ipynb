{
 "cells": [
  {
   "cell_type": "code",
   "execution_count": 1,
   "id": "fc32fe2c-33d6-43bf-8aa2-aee8376cb67b",
   "metadata": {},
   "outputs": [],
   "source": [
    "import ee\n",
    "import geemap"
   ]
  },
  {
   "cell_type": "code",
   "execution_count": 2,
   "id": "23e4579a-cd0b-4e21-ae0f-57d749f7b955",
   "metadata": {},
   "outputs": [],
   "source": [
    "# ee.Authenticate()"
   ]
  },
  {
   "cell_type": "code",
   "execution_count": 3,
   "id": "782f8deb-18f4-4bdb-8ed3-0b22400f1ed7",
   "metadata": {},
   "outputs": [],
   "source": [
    "ee.Initialize()"
   ]
  },
  {
   "cell_type": "code",
   "execution_count": 4,
   "id": "ae88bd08-bb15-465d-a5e5-46a8a1febc4e",
   "metadata": {},
   "outputs": [],
   "source": [
    "Map = geemap.Map()"
   ]
  },
  {
   "cell_type": "code",
   "execution_count": 5,
   "id": "ca259619-b70e-4ad2-9770-fdb4959c4505",
   "metadata": {},
   "outputs": [
    {
     "data": {
      "application/vnd.jupyter.widget-view+json": {
       "model_id": "6acf7535e8a940e8998858d7580774ba",
       "version_major": 2,
       "version_minor": 0
      },
      "text/plain": [
       "Map(center=[40, -100], controls=(WidgetControl(options=['position', 'transparent_bg'], widget=HBox(children=(T…"
      ]
     },
     "metadata": {},
     "output_type": "display_data"
    }
   ],
   "source": [
    "Map"
   ]
  },
  {
   "cell_type": "code",
   "execution_count": 6,
   "id": "5c79072f-1b55-456c-8653-0dab4b1d8355",
   "metadata": {},
   "outputs": [],
   "source": [
    "#*** Start of imports. If edited, may not auto-convert in the playground. ***#\n",
    "Np = ee.FeatureCollection(\"users/aaditya-rb/nepal_map\")\n",
    "Kaski = ee.FeatureCollection(\"users/aaditya-rb/kaski_test\")\n",
    "LULC_icimod = ee.Image(\"users/aaditya-rb/np_lc_2010_v2f\")\n",
    "L7 = ee.ImageCollection(\"LANDSAT/LE07/C01/T1_SR\")\n",
    "DEM = ee.Image(\"USGS/SRTMGL1_003\")\n",
    "L7_vis = {\"opacity\":1,\"bands\":[\"B4\",\"B3\",\"B2\"],\"min\":220,\"max\":19660,\"gamma\":1}\n",
    "LULC_vis = {\"opacity\":1,\"bands\":[\"b1\"],\"palette\":[\"0cff35\",\"ff0000\",\"1202ff\",\"fbff08\",\"ff8792\",\"b6ffb4\",\"c0bcff\",\"b4e0ff\",\"ffc38f\",\"feb3ff\",\"6679ff\",\"5c69ff\"]}\n",
    "#**** End of imports. If edited, may not auto-convert in the playground. ****#"
   ]
  },
  {
   "cell_type": "code",
   "execution_count": 7,
   "id": "5df1a3d6-a203-49fc-acc4-ed61287e5cf5",
   "metadata": {},
   "outputs": [],
   "source": [
    "Map.setCenter(84.1240, 28.3949, 7)\n",
    "L7_np = L7.filterDate('2010-01-01', '2010-12-31') \\\n",
    ".filterBounds(Np) \\\n",
    ".filterMetadata(\"CLOUD_COVER\", 'less_than', 10) \\\n",
    ".sort('CLOUD_COVER',False)\n",
    "# print(L7_np.size())"
   ]
  },
  {
   "cell_type": "code",
   "execution_count": 8,
   "id": "6bb929c9-e205-4c87-ad50-db83a4b0c8cf",
   "metadata": {},
   "outputs": [],
   "source": [
    "mergedL7 = L7_np.median().clip(Np)\n",
    "\n",
    "# Map.addLayer(mergedL7, L7_vis, \"Landsat 7\")\n",
    "# Map.addLayer(LULC_icimod, LULC_vis, \"LULC icimod\")\n",
    "\n",
    "b2 = mergedL7.select(\"B2\")\n",
    "b3 = mergedL7.select(\"B3\")\n",
    "b4 = mergedL7.select(\"B4\")\n",
    "b5 = mergedL7.select(\"B5\")\n",
    "NDVI = b4.subtract(b3).divide(b4.add(b3)).rename(\"NDVI\")\n",
    "NDBI = b5.subtract(b4).divide(b5.add(b4)).rename(\"NDBI\")\n",
    "NDWI = b4.subtract(b5).divide(b5.add(b4)).rename(\"NDWI\")\n",
    "MNDWI = b2.subtract(b5).divide(b2.add(b5)).rename(\"MNDWI\")\n",
    "DEM_nepal = DEM.clip(Np)\n"
   ]
  },
  {
   "cell_type": "code",
   "execution_count": 9,
   "id": "6d2f1ec2-42d9-4521-a6c2-015d81ea1894",
   "metadata": {},
   "outputs": [],
   "source": [
    "addedNepal = mergedL7 \\\n",
    "# .addBands(NDVI) \\\n",
    "# .addBands(NDBI) \\\n",
    "# .addBands(NDWI) \\\n",
    "# .addBands(MNDWI) \\\n",
    "# .addBands(LULC_icimod.rename(\"LULC\"))\n"
   ]
  },
  {
   "cell_type": "code",
   "execution_count": 10,
   "id": "6e9f23a2-827a-462c-991a-0a11a7f6eee8",
   "metadata": {},
   "outputs": [],
   "source": [
    "Map.addLayer(addedNepal, L7_vis, \"Landsat 7\")\n",
    "randPoints = ee.FeatureCollection.randomPoints(Np, 100000, 2)\n",
    "Map.addLayer(randPoints, {}, \"Random Points\")"
   ]
  },
  {
   "cell_type": "code",
   "execution_count": 11,
   "id": "5f693ae5-d9b2-4ca9-8eab-fa28bb5d4636",
   "metadata": {},
   "outputs": [
    {
     "data": {
      "application/vnd.jupyter.widget-view+json": {
       "model_id": "6acf7535e8a940e8998858d7580774ba",
       "version_major": 2,
       "version_minor": 0
      },
      "text/plain": [
       "Map(center=[28.3949, 84.124], controls=(WidgetControl(options=['position', 'transparent_bg'], widget=HBox(chil…"
      ]
     },
     "metadata": {},
     "output_type": "display_data"
    }
   ],
   "source": [
    "Map"
   ]
  },
  {
   "cell_type": "code",
   "execution_count": 12,
   "id": "4b34ab3e-7a74-498d-b23e-410c80892cef",
   "metadata": {},
   "outputs": [],
   "source": [
    "exportBands = mergedL7.select(\"B1\").addBands(mergedL7.select(\"B2\")) \\\n",
    ".addBands(mergedL7.select(\"B3\")) \\\n",
    ".addBands(mergedL7.select(\"B4\")) \\\n",
    ".addBands(mergedL7.select(\"B5\")) \\\n",
    ".addBands(mergedL7.select(\"B6\")) \\\n",
    ".addBands(mergedL7.select(\"B7\")) \\\n",
    ".addBands(NDVI.select(\"NDVI\")) \\\n",
    ".addBands(NDBI.select(\"NDBI\")) \\\n",
    ".addBands(NDWI.select(\"NDWI\"))\\\n",
    ".addBands(MNDWI.select(\"MNDWI\"))\\\n",
    ".addBands(DEM_nepal) \\\n",
    ".addBands(LULC_icimod.select(\"b1\").rename(\"LULC\"))\n"
   ]
  },
  {
   "cell_type": "code",
   "execution_count": 14,
   "id": "987e6e46-583a-4dd3-aa3c-ec23360dc2b5",
   "metadata": {},
   "outputs": [
    {
     "name": "stdout",
     "output_type": "stream",
     "text": [
      "Generating URL ...\n",
      "Downloading data from https://earthengine.googleapis.com/v1alpha/projects/earthengine-legacy/tables/283bc3c73358e184a4e8d04b46290ee5-7b03fe347abf601657e5251a1917aa19:getFeatures\n",
      "Please wait ...\n",
      "Data downloaded to D:\\GIS\\LULC_GEE_ICIMOD\\use_files\\landsatDataNP_final.csv\n"
     ]
    }
   ],
   "source": [
    "out_csv = 'landsatDataNP_final.csv'\n",
    "geemap.extract_values_to_points(randPoints, exportBands, out_csv, scale = 30)"
   ]
  },
  {
   "cell_type": "code",
   "execution_count": null,
   "id": "491d8728-27b4-4d33-a2a4-97b8f7ff668e",
   "metadata": {},
   "outputs": [],
   "source": []
  }
 ],
 "metadata": {
  "kernelspec": {
   "display_name": "Python 3",
   "language": "python",
   "name": "python3"
  },
  "language_info": {
   "codemirror_mode": {
    "name": "ipython",
    "version": 3
   },
   "file_extension": ".py",
   "mimetype": "text/x-python",
   "name": "python",
   "nbconvert_exporter": "python",
   "pygments_lexer": "ipython3",
   "version": "3.8.10"
  }
 },
 "nbformat": 4,
 "nbformat_minor": 5
}
