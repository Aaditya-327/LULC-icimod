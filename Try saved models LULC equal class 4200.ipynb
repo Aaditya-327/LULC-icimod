{
 "cells": [
  {
   "cell_type": "code",
   "execution_count": 1,
   "id": "7b6f6f01-00f5-423d-9ac0-9dcb6052e441",
   "metadata": {},
   "outputs": [],
   "source": [
    "import ee\n",
    "import geemap"
   ]
  },
  {
   "cell_type": "code",
   "execution_count": 2,
   "id": "7488e429-b32e-48c2-8571-791e4ccc1298",
   "metadata": {},
   "outputs": [
    {
     "data": {
      "application/vnd.jupyter.widget-view+json": {
       "model_id": "d201c01cd5364f03bc8df611f319c7f6",
       "version_major": 2,
       "version_minor": 0
      },
      "text/plain": [
       "Map(center=[28.3949, 84.124], controls=(WidgetControl(options=['position', 'transparent_bg'], widget=HBox(chil…"
      ]
     },
     "metadata": {},
     "output_type": "display_data"
    }
   ],
   "source": [
    "ee.Initialize()\n",
    "Map = geemap.Map(center = [28.3949, 84.1240], zoom = 7)\n",
    "Map"
   ]
  },
  {
   "cell_type": "code",
   "execution_count": 3,
   "id": "2aef33ea-f6f5-460c-b515-51d236900f46",
   "metadata": {},
   "outputs": [],
   "source": [
    "Np = ee.FeatureCollection(\"users/aaditya-rb/nepal_map\")\n",
    "L7 = ee.ImageCollection(\"LANDSAT/LE07/C01/T1_SR\")\n",
    "DEM = ee.Image(\"USGS/SRTMGL1_003\")\n",
    "L7_vis = {\"opacity\":1,\"bands\":[\"B4\",\"B3\",\"B2\"],\"min\":220,\"max\":19660,\"gamma\":1}\n",
    "\n",
    "L7_np = L7.filterDate('2020-01-01', '2020-12-30') \\\n",
    ".filterBounds(Np) \\\n",
    ".filterMetadata(\"CLOUD_COVER\", 'less_than', 10) \\\n",
    ".sort('CLOUD_COVER',False)"
   ]
  },
  {
   "cell_type": "code",
   "execution_count": 4,
   "id": "9b20fe43-e76a-46ac-bc70-7a42cc7d92d4",
   "metadata": {},
   "outputs": [],
   "source": [
    "mergedL7 = L7_np.median().clip(Np)\n",
    "\n",
    "# Map.addLayer(mergedL7, L7_vis, \"Landsat 7\")\n",
    "# Map.addLayer(LULC_icimod, LULC_vis, \"LULC icimod\")\n",
    "\n",
    "b2 = mergedL7.select(\"B2\")\n",
    "b3 = mergedL7.select(\"B3\")\n",
    "b4 = mergedL7.select(\"B4\")\n",
    "b5 = mergedL7.select(\"B5\")\n",
    "NDVI = b4.subtract(b3).divide(b4.add(b3)).rename(\"NDVI\")\n",
    "NDBI = b5.subtract(b4).divide(b5.add(b4)).rename(\"NDBI\")\n",
    "NDWI = b4.subtract(b5).divide(b5.add(b4)).rename(\"NDWI\")\n",
    "MNDWI = b2.subtract(b5).divide(b2.add(b5)).rename(\"MNDWI\")\n",
    "DEM_nepal = DEM.clip(Np)"
   ]
  },
  {
   "cell_type": "code",
   "execution_count": 5,
   "id": "f355f523-9ddd-436e-b7cf-317aa96cadd4",
   "metadata": {},
   "outputs": [],
   "source": [
    "addedNepal = mergedL7"
   ]
  },
  {
   "cell_type": "code",
   "execution_count": 6,
   "id": "ea38918c-b388-4e10-a676-a4889bc787da",
   "metadata": {},
   "outputs": [],
   "source": [
    "exportBands = mergedL7.select(\"B1\").addBands(mergedL7.select(\"B2\")) \\\n",
    ".addBands(mergedL7.select(\"B3\")) \\\n",
    ".addBands(mergedL7.select(\"B4\")) \\\n",
    ".addBands(mergedL7.select(\"B5\")) \\\n",
    ".addBands(mergedL7.select(\"B6\")) \\\n",
    ".addBands(mergedL7.select(\"B7\")) \\\n",
    ".addBands(NDVI.select(\"NDVI\")) \\\n",
    ".addBands(NDBI.select(\"NDBI\")) \\\n",
    ".addBands(NDWI.select(\"NDWI\"))\\\n",
    ".addBands(MNDWI.select(\"MNDWI\"))\\\n",
    ".addBands(DEM_nepal) \\\n",
    "# .addBands(LULC_icimod.select(\"b1\").rename(\"LULC\"))"
   ]
  },
  {
   "cell_type": "code",
   "execution_count": 8,
   "id": "614e9df2-5d5e-4765-addf-03c6e644553e",
   "metadata": {},
   "outputs": [],
   "source": [
    "# MAKE SURE ASSET OF RANDOM FOREST <10.4MB is uploaded"
   ]
  },
  {
   "cell_type": "code",
   "execution_count": 9,
   "id": "e22eede4-4acd-4c04-bffe-6cfc7c3d482d",
   "metadata": {},
   "outputs": [],
   "source": [
    "from geemap import ml"
   ]
  },
  {
   "cell_type": "code",
   "execution_count": 10,
   "id": "14ab2c1d-b633-4099-9ee7-3c74744a40bc",
   "metadata": {},
   "outputs": [],
   "source": [
    "# read the exported tree feature collection\n",
    "rf_fc = ee.FeatureCollection(\"users/aaditya-rb/random_forest_strings_equal_class\")\n",
    "\n",
    "# convert it to a classifier, very similar to the `ml.trees_to_classifier` function\n",
    "another_classifier = ml.fc_to_classifier(rf_fc)"
   ]
  },
  {
   "cell_type": "code",
   "execution_count": 11,
   "id": "369a6205-22e8-4d81-b76d-846a9fce004d",
   "metadata": {},
   "outputs": [],
   "source": [
    "# feature names\n",
    "feature_names = ['B1', 'B2', 'B3', 'B4', 'B5', 'B6', 'B7', 'NDWI', 'NDVI', 'MNDWI', 'NDBI', 'elevation']\n",
    "\n",
    "# classify the image again but with the classifier from the persisted trees\n",
    "classified = exportBands.select(feature_names).classify(another_classifier)"
   ]
  },
  {
   "cell_type": "code",
   "execution_count": 12,
   "id": "fe3b48ec-24d5-409d-b7c0-9ce37125f74e",
   "metadata": {},
   "outputs": [],
   "source": [
    "Map.addLayer(classified, {\"min\": 0, \"max\": 2, \"palette\": ['red', 'green', 'blue']},'classification')"
   ]
  },
  {
   "cell_type": "code",
   "execution_count": 13,
   "id": "7c605d1b-2ef3-4578-bf86-47425ba3bb61",
   "metadata": {},
   "outputs": [
    {
     "data": {
      "application/vnd.jupyter.widget-view+json": {
       "model_id": "d201c01cd5364f03bc8df611f319c7f6",
       "version_major": 2,
       "version_minor": 0
      },
      "text/plain": [
       "Map(bottom=13987.0, center=[28.3949, 84.124], controls=(WidgetControl(options=['position', 'transparent_bg'], …"
      ]
     },
     "metadata": {},
     "output_type": "display_data"
    }
   ],
   "source": [
    "Map"
   ]
  },
  {
   "cell_type": "code",
   "execution_count": 14,
   "id": "6378576a-5a80-4ce8-a945-00e8aa57b703",
   "metadata": {},
   "outputs": [
    {
     "name": "stdout",
     "output_type": "stream",
     "text": [
      "Exporting LULC_MAP_2020_COMP_proper_CLASS ...\n"
     ]
    }
   ],
   "source": [
    "geemap.ee_export_image_to_drive(classified, description='LULC_MAP_2020_COMP_proper_CLASS', folder='GEE export folder', region=Np.geometry(), file_format='GeoTIFF', format_options={'cloudOptimized': True}, scale=30)\n"
   ]
  },
  {
   "cell_type": "code",
   "execution_count": 7,
   "id": "6422b678-bab3-4d3e-ba10-475807ec64a2",
   "metadata": {},
   "outputs": [],
   "source": [
    "# geemap.ee_export_image(classified, filename=\"LULC_MAP_2020.tif\", region=Np.geometry(), scale=500)\n"
   ]
  },
  {
   "cell_type": "code",
   "execution_count": null,
   "id": "852b60a8-e33f-4f17-9191-6ee6a7aa7b57",
   "metadata": {},
   "outputs": [],
   "source": []
  },
  {
   "cell_type": "code",
   "execution_count": null,
   "id": "93fde856-80ae-4907-b80a-0a28b670ecd9",
   "metadata": {},
   "outputs": [],
   "source": []
  }
 ],
 "metadata": {
  "kernelspec": {
   "display_name": "Python 3",
   "language": "python",
   "name": "python3"
  },
  "language_info": {
   "codemirror_mode": {
    "name": "ipython",
    "version": 3
   },
   "file_extension": ".py",
   "mimetype": "text/x-python",
   "name": "python",
   "nbconvert_exporter": "python",
   "pygments_lexer": "ipython3",
   "version": "3.8.10"
  }
 },
 "nbformat": 4,
 "nbformat_minor": 5
}
