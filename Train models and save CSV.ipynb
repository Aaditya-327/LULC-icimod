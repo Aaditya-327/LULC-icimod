{
 "cells": [
  {
   "cell_type": "markdown",
   "metadata": {
    "id": "RLMhrwg-NRfy"
   },
   "source": [
    "# Multinomial Logistic Regression\n",
    "\n",
    "In this script we use multinomial logistic regression to predict the handwritten digits of the MNIST dataset."
   ]
  },
  {
   "cell_type": "code",
   "execution_count": 1,
   "metadata": {
    "colab": {
     "base_uri": "https://localhost:8080/",
     "height": 1000
    },
    "id": "bR1_XFLZrfyD",
    "outputId": "985d14aa-4822-4de5-8e20-001ff361cfb4"
   },
   "outputs": [],
   "source": [
    "# !pip install geemap\n",
    "from geemap import ml"
   ]
  },
  {
   "cell_type": "code",
   "execution_count": 49,
   "metadata": {
    "id": "WO_QKf6zQLfD"
   },
   "outputs": [],
   "source": [
    "with open(\"use_files/landsatDataNP_import.csv\", \"r\") as csv_file:\n",
    "  data = csv_file.read()\n",
    "\n",
    "with open(\"use_files/landsatDataNP.csv\", \"w\") as csv_file:\n",
    "  csv_file.write(data)"
   ]
  },
  {
   "cell_type": "code",
   "execution_count": 50,
   "metadata": {
    "colab": {
     "base_uri": "https://localhost:8080/",
     "height": 224
    },
    "id": "pB1vN3-KQ8lg",
    "outputId": "af38cc03-0a76-43ad-d06f-9945342590c9"
   },
   "outputs": [
    {
     "data": {
      "text/html": [
       "<div>\n",
       "<style scoped>\n",
       "    .dataframe tbody tr th:only-of-type {\n",
       "        vertical-align: middle;\n",
       "    }\n",
       "\n",
       "    .dataframe tbody tr th {\n",
       "        vertical-align: top;\n",
       "    }\n",
       "\n",
       "    .dataframe thead th {\n",
       "        text-align: right;\n",
       "    }\n",
       "</style>\n",
       "<table border=\"1\" class=\"dataframe\">\n",
       "  <thead>\n",
       "    <tr style=\"text-align: right;\">\n",
       "      <th></th>\n",
       "      <th>ID</th>\n",
       "      <th>B1</th>\n",
       "      <th>B2</th>\n",
       "      <th>B3</th>\n",
       "      <th>B4</th>\n",
       "      <th>B5</th>\n",
       "      <th>B6</th>\n",
       "      <th>B7</th>\n",
       "      <th>NDWI</th>\n",
       "      <th>NDVI</th>\n",
       "      <th>MNDWI</th>\n",
       "      <th>NDBI</th>\n",
       "      <th>elevation</th>\n",
       "      <th>LULC</th>\n",
       "    </tr>\n",
       "  </thead>\n",
       "  <tbody>\n",
       "    <tr>\n",
       "      <th>0</th>\n",
       "      <td>0_0</td>\n",
       "      <td>755.0</td>\n",
       "      <td>1205.5</td>\n",
       "      <td>1710.0</td>\n",
       "      <td>2739.0</td>\n",
       "      <td>3260.0</td>\n",
       "      <td>3060.0</td>\n",
       "      <td>2450.0</td>\n",
       "      <td>-0.086848</td>\n",
       "      <td>0.231288</td>\n",
       "      <td>-0.460083</td>\n",
       "      <td>0.086848</td>\n",
       "      <td>797</td>\n",
       "      <td>4</td>\n",
       "    </tr>\n",
       "    <tr>\n",
       "      <th>1</th>\n",
       "      <td>1_0</td>\n",
       "      <td>433.0</td>\n",
       "      <td>474.0</td>\n",
       "      <td>392.0</td>\n",
       "      <td>1914.0</td>\n",
       "      <td>1332.0</td>\n",
       "      <td>2970.0</td>\n",
       "      <td>489.0</td>\n",
       "      <td>0.179298</td>\n",
       "      <td>0.660017</td>\n",
       "      <td>-0.475083</td>\n",
       "      <td>-0.179298</td>\n",
       "      <td>164</td>\n",
       "      <td>1</td>\n",
       "    </tr>\n",
       "    <tr>\n",
       "      <th>2</th>\n",
       "      <td>2_0</td>\n",
       "      <td>868.0</td>\n",
       "      <td>1112.0</td>\n",
       "      <td>1187.0</td>\n",
       "      <td>2491.0</td>\n",
       "      <td>2498.0</td>\n",
       "      <td>2980.0</td>\n",
       "      <td>1771.0</td>\n",
       "      <td>-0.001403</td>\n",
       "      <td>0.354541</td>\n",
       "      <td>-0.383934</td>\n",
       "      <td>0.001403</td>\n",
       "      <td>125</td>\n",
       "      <td>4</td>\n",
       "    </tr>\n",
       "    <tr>\n",
       "      <th>3</th>\n",
       "      <td>3_0</td>\n",
       "      <td>528.0</td>\n",
       "      <td>659.0</td>\n",
       "      <td>756.5</td>\n",
       "      <td>1989.5</td>\n",
       "      <td>1808.0</td>\n",
       "      <td>2809.5</td>\n",
       "      <td>1311.5</td>\n",
       "      <td>0.047795</td>\n",
       "      <td>0.449017</td>\n",
       "      <td>-0.465748</td>\n",
       "      <td>-0.047795</td>\n",
       "      <td>3643</td>\n",
       "      <td>1</td>\n",
       "    </tr>\n",
       "    <tr>\n",
       "      <th>4</th>\n",
       "      <td>4_0</td>\n",
       "      <td>447.5</td>\n",
       "      <td>591.0</td>\n",
       "      <td>624.5</td>\n",
       "      <td>1351.0</td>\n",
       "      <td>1530.0</td>\n",
       "      <td>2850.0</td>\n",
       "      <td>1123.0</td>\n",
       "      <td>-0.062131</td>\n",
       "      <td>0.367755</td>\n",
       "      <td>-0.442716</td>\n",
       "      <td>0.062131</td>\n",
       "      <td>1029</td>\n",
       "      <td>4</td>\n",
       "    </tr>\n",
       "  </tbody>\n",
       "</table>\n",
       "</div>"
      ],
      "text/plain": [
       "    ID     B1      B2      B3      B4      B5      B6      B7      NDWI  \\\n",
       "0  0_0  755.0  1205.5  1710.0  2739.0  3260.0  3060.0  2450.0 -0.086848   \n",
       "1  1_0  433.0   474.0   392.0  1914.0  1332.0  2970.0   489.0  0.179298   \n",
       "2  2_0  868.0  1112.0  1187.0  2491.0  2498.0  2980.0  1771.0 -0.001403   \n",
       "3  3_0  528.0   659.0   756.5  1989.5  1808.0  2809.5  1311.5  0.047795   \n",
       "4  4_0  447.5   591.0   624.5  1351.0  1530.0  2850.0  1123.0 -0.062131   \n",
       "\n",
       "       NDVI     MNDWI      NDBI  elevation  LULC  \n",
       "0  0.231288 -0.460083  0.086848        797     4  \n",
       "1  0.660017 -0.475083 -0.179298        164     1  \n",
       "2  0.354541 -0.383934  0.001403        125     4  \n",
       "3  0.449017 -0.465748 -0.047795       3643     1  \n",
       "4  0.367755 -0.442716  0.062131       1029     4  "
      ]
     },
     "execution_count": 50,
     "metadata": {},
     "output_type": "execute_result"
    }
   ],
   "source": [
    "import pandas as pd\n",
    "land = pd.read_csv(\"use_files/landsatDataNP.csv\")\n",
    "land.head()"
   ]
  },
  {
   "cell_type": "code",
   "execution_count": 51,
   "metadata": {
    "id": "LB5WSy69R19w"
   },
   "outputs": [],
   "source": [
    "import pandas as pd\n",
    "from sklearn.linear_model import LogisticRegression\n",
    "import matplotlib.pyplot as plt\n",
    "from sklearn.model_selection import train_test_split"
   ]
  },
  {
   "cell_type": "code",
   "execution_count": 52,
   "metadata": {
    "id": "r4Ini2DYSG_A"
   },
   "outputs": [],
   "source": [
    "# first_row = ['ID', 'B1', 'B2', 'B3', 'B4', 'B5', 'B6', 'B7', 'NDWI', 'NDVI', 'MNDWI', 'NDBI', 'elevation', 'LULC']\n",
    "\n",
    "main_data = pd.read_csv('use_files/landsatDataNP.csv') \n",
    "# main_data = pd.read_csv('/content/landsatDataNP.csv', names = first_row) \n",
    "band_df = pd.DataFrame(main_data)\n",
    "# band_df.Class = band_df.Class - 1"
   ]
  },
  {
   "cell_type": "code",
   "execution_count": 53,
   "metadata": {
    "colab": {
     "base_uri": "https://localhost:8080/",
     "height": 204
    },
    "id": "iZn574-pSJam",
    "outputId": "c9f723bb-0558-409c-bab1-cd51149abc8a"
   },
   "outputs": [
    {
     "data": {
      "text/html": [
       "<div>\n",
       "<style scoped>\n",
       "    .dataframe tbody tr th:only-of-type {\n",
       "        vertical-align: middle;\n",
       "    }\n",
       "\n",
       "    .dataframe tbody tr th {\n",
       "        vertical-align: top;\n",
       "    }\n",
       "\n",
       "    .dataframe thead th {\n",
       "        text-align: right;\n",
       "    }\n",
       "</style>\n",
       "<table border=\"1\" class=\"dataframe\">\n",
       "  <thead>\n",
       "    <tr style=\"text-align: right;\">\n",
       "      <th></th>\n",
       "      <th>ID</th>\n",
       "      <th>B1</th>\n",
       "      <th>B2</th>\n",
       "      <th>B3</th>\n",
       "      <th>B4</th>\n",
       "      <th>B5</th>\n",
       "      <th>B6</th>\n",
       "      <th>B7</th>\n",
       "      <th>NDWI</th>\n",
       "      <th>NDVI</th>\n",
       "      <th>MNDWI</th>\n",
       "      <th>NDBI</th>\n",
       "      <th>elevation</th>\n",
       "      <th>LULC</th>\n",
       "    </tr>\n",
       "  </thead>\n",
       "  <tbody>\n",
       "    <tr>\n",
       "      <th>0</th>\n",
       "      <td>0_0</td>\n",
       "      <td>755.0</td>\n",
       "      <td>1205.5</td>\n",
       "      <td>1710.0</td>\n",
       "      <td>2739.0</td>\n",
       "      <td>3260.0</td>\n",
       "      <td>3060.0</td>\n",
       "      <td>2450.0</td>\n",
       "      <td>-0.086848</td>\n",
       "      <td>0.231288</td>\n",
       "      <td>-0.460083</td>\n",
       "      <td>0.086848</td>\n",
       "      <td>797</td>\n",
       "      <td>4</td>\n",
       "    </tr>\n",
       "    <tr>\n",
       "      <th>1</th>\n",
       "      <td>1_0</td>\n",
       "      <td>433.0</td>\n",
       "      <td>474.0</td>\n",
       "      <td>392.0</td>\n",
       "      <td>1914.0</td>\n",
       "      <td>1332.0</td>\n",
       "      <td>2970.0</td>\n",
       "      <td>489.0</td>\n",
       "      <td>0.179298</td>\n",
       "      <td>0.660017</td>\n",
       "      <td>-0.475083</td>\n",
       "      <td>-0.179298</td>\n",
       "      <td>164</td>\n",
       "      <td>1</td>\n",
       "    </tr>\n",
       "    <tr>\n",
       "      <th>2</th>\n",
       "      <td>2_0</td>\n",
       "      <td>868.0</td>\n",
       "      <td>1112.0</td>\n",
       "      <td>1187.0</td>\n",
       "      <td>2491.0</td>\n",
       "      <td>2498.0</td>\n",
       "      <td>2980.0</td>\n",
       "      <td>1771.0</td>\n",
       "      <td>-0.001403</td>\n",
       "      <td>0.354541</td>\n",
       "      <td>-0.383934</td>\n",
       "      <td>0.001403</td>\n",
       "      <td>125</td>\n",
       "      <td>4</td>\n",
       "    </tr>\n",
       "    <tr>\n",
       "      <th>3</th>\n",
       "      <td>3_0</td>\n",
       "      <td>528.0</td>\n",
       "      <td>659.0</td>\n",
       "      <td>756.5</td>\n",
       "      <td>1989.5</td>\n",
       "      <td>1808.0</td>\n",
       "      <td>2809.5</td>\n",
       "      <td>1311.5</td>\n",
       "      <td>0.047795</td>\n",
       "      <td>0.449017</td>\n",
       "      <td>-0.465748</td>\n",
       "      <td>-0.047795</td>\n",
       "      <td>3643</td>\n",
       "      <td>1</td>\n",
       "    </tr>\n",
       "    <tr>\n",
       "      <th>4</th>\n",
       "      <td>4_0</td>\n",
       "      <td>447.5</td>\n",
       "      <td>591.0</td>\n",
       "      <td>624.5</td>\n",
       "      <td>1351.0</td>\n",
       "      <td>1530.0</td>\n",
       "      <td>2850.0</td>\n",
       "      <td>1123.0</td>\n",
       "      <td>-0.062131</td>\n",
       "      <td>0.367755</td>\n",
       "      <td>-0.442716</td>\n",
       "      <td>0.062131</td>\n",
       "      <td>1029</td>\n",
       "      <td>4</td>\n",
       "    </tr>\n",
       "  </tbody>\n",
       "</table>\n",
       "</div>"
      ],
      "text/plain": [
       "    ID     B1      B2      B3      B4      B5      B6      B7      NDWI  \\\n",
       "0  0_0  755.0  1205.5  1710.0  2739.0  3260.0  3060.0  2450.0 -0.086848   \n",
       "1  1_0  433.0   474.0   392.0  1914.0  1332.0  2970.0   489.0  0.179298   \n",
       "2  2_0  868.0  1112.0  1187.0  2491.0  2498.0  2980.0  1771.0 -0.001403   \n",
       "3  3_0  528.0   659.0   756.5  1989.5  1808.0  2809.5  1311.5  0.047795   \n",
       "4  4_0  447.5   591.0   624.5  1351.0  1530.0  2850.0  1123.0 -0.062131   \n",
       "\n",
       "       NDVI     MNDWI      NDBI  elevation  LULC  \n",
       "0  0.231288 -0.460083  0.086848        797     4  \n",
       "1  0.660017 -0.475083 -0.179298        164     1  \n",
       "2  0.354541 -0.383934  0.001403        125     4  \n",
       "3  0.449017 -0.465748 -0.047795       3643     1  \n",
       "4  0.367755 -0.442716  0.062131       1029     4  "
      ]
     },
     "execution_count": 53,
     "metadata": {},
     "output_type": "execute_result"
    }
   ],
   "source": [
    "band_df.head()"
   ]
  },
  {
   "cell_type": "code",
   "execution_count": 54,
   "metadata": {
    "colab": {
     "base_uri": "https://localhost:8080/",
     "height": 439
    },
    "id": "rK4wgjwpWPSB",
    "outputId": "8ab808b1-0fd4-4f33-96ba-33c5ce474dd8"
   },
   "outputs": [
    {
     "data": {
      "text/html": [
       "<div>\n",
       "<style scoped>\n",
       "    .dataframe tbody tr th:only-of-type {\n",
       "        vertical-align: middle;\n",
       "    }\n",
       "\n",
       "    .dataframe tbody tr th {\n",
       "        vertical-align: top;\n",
       "    }\n",
       "\n",
       "    .dataframe thead th {\n",
       "        text-align: right;\n",
       "    }\n",
       "</style>\n",
       "<table border=\"1\" class=\"dataframe\">\n",
       "  <thead>\n",
       "    <tr style=\"text-align: right;\">\n",
       "      <th></th>\n",
       "      <th>ID</th>\n",
       "      <th>B1</th>\n",
       "      <th>B2</th>\n",
       "      <th>B3</th>\n",
       "      <th>B4</th>\n",
       "      <th>B5</th>\n",
       "      <th>B6</th>\n",
       "      <th>B7</th>\n",
       "      <th>NDWI</th>\n",
       "      <th>NDVI</th>\n",
       "      <th>MNDWI</th>\n",
       "      <th>NDBI</th>\n",
       "      <th>elevation</th>\n",
       "      <th>LULC</th>\n",
       "    </tr>\n",
       "  </thead>\n",
       "  <tbody>\n",
       "    <tr>\n",
       "      <th>0</th>\n",
       "      <td>0_0</td>\n",
       "      <td>755.0</td>\n",
       "      <td>1205.5</td>\n",
       "      <td>1710.0</td>\n",
       "      <td>2739.0</td>\n",
       "      <td>3260.0</td>\n",
       "      <td>3060.0</td>\n",
       "      <td>2450.0</td>\n",
       "      <td>-0.086848</td>\n",
       "      <td>0.231288</td>\n",
       "      <td>-0.460083</td>\n",
       "      <td>0.086848</td>\n",
       "      <td>797</td>\n",
       "      <td>4</td>\n",
       "    </tr>\n",
       "    <tr>\n",
       "      <th>1</th>\n",
       "      <td>1_0</td>\n",
       "      <td>433.0</td>\n",
       "      <td>474.0</td>\n",
       "      <td>392.0</td>\n",
       "      <td>1914.0</td>\n",
       "      <td>1332.0</td>\n",
       "      <td>2970.0</td>\n",
       "      <td>489.0</td>\n",
       "      <td>0.179298</td>\n",
       "      <td>0.660017</td>\n",
       "      <td>-0.475083</td>\n",
       "      <td>-0.179298</td>\n",
       "      <td>164</td>\n",
       "      <td>1</td>\n",
       "    </tr>\n",
       "    <tr>\n",
       "      <th>2</th>\n",
       "      <td>2_0</td>\n",
       "      <td>868.0</td>\n",
       "      <td>1112.0</td>\n",
       "      <td>1187.0</td>\n",
       "      <td>2491.0</td>\n",
       "      <td>2498.0</td>\n",
       "      <td>2980.0</td>\n",
       "      <td>1771.0</td>\n",
       "      <td>-0.001403</td>\n",
       "      <td>0.354541</td>\n",
       "      <td>-0.383934</td>\n",
       "      <td>0.001403</td>\n",
       "      <td>125</td>\n",
       "      <td>4</td>\n",
       "    </tr>\n",
       "    <tr>\n",
       "      <th>3</th>\n",
       "      <td>3_0</td>\n",
       "      <td>528.0</td>\n",
       "      <td>659.0</td>\n",
       "      <td>756.5</td>\n",
       "      <td>1989.5</td>\n",
       "      <td>1808.0</td>\n",
       "      <td>2809.5</td>\n",
       "      <td>1311.5</td>\n",
       "      <td>0.047795</td>\n",
       "      <td>0.449017</td>\n",
       "      <td>-0.465748</td>\n",
       "      <td>-0.047795</td>\n",
       "      <td>3643</td>\n",
       "      <td>1</td>\n",
       "    </tr>\n",
       "    <tr>\n",
       "      <th>4</th>\n",
       "      <td>4_0</td>\n",
       "      <td>447.5</td>\n",
       "      <td>591.0</td>\n",
       "      <td>624.5</td>\n",
       "      <td>1351.0</td>\n",
       "      <td>1530.0</td>\n",
       "      <td>2850.0</td>\n",
       "      <td>1123.0</td>\n",
       "      <td>-0.062131</td>\n",
       "      <td>0.367755</td>\n",
       "      <td>-0.442716</td>\n",
       "      <td>0.062131</td>\n",
       "      <td>1029</td>\n",
       "      <td>4</td>\n",
       "    </tr>\n",
       "    <tr>\n",
       "      <th>...</th>\n",
       "      <td>...</td>\n",
       "      <td>...</td>\n",
       "      <td>...</td>\n",
       "      <td>...</td>\n",
       "      <td>...</td>\n",
       "      <td>...</td>\n",
       "      <td>...</td>\n",
       "      <td>...</td>\n",
       "      <td>...</td>\n",
       "      <td>...</td>\n",
       "      <td>...</td>\n",
       "      <td>...</td>\n",
       "      <td>...</td>\n",
       "      <td>...</td>\n",
       "    </tr>\n",
       "    <tr>\n",
       "      <th>99633</th>\n",
       "      <td>99995_0</td>\n",
       "      <td>588.0</td>\n",
       "      <td>805.0</td>\n",
       "      <td>1090.0</td>\n",
       "      <td>2178.5</td>\n",
       "      <td>3580.0</td>\n",
       "      <td>2954.5</td>\n",
       "      <td>2592.5</td>\n",
       "      <td>-0.243379</td>\n",
       "      <td>0.333027</td>\n",
       "      <td>-0.632839</td>\n",
       "      <td>0.243379</td>\n",
       "      <td>4376</td>\n",
       "      <td>3</td>\n",
       "    </tr>\n",
       "    <tr>\n",
       "      <th>99634</th>\n",
       "      <td>99996_0</td>\n",
       "      <td>1052.5</td>\n",
       "      <td>1244.0</td>\n",
       "      <td>1341.5</td>\n",
       "      <td>1423.5</td>\n",
       "      <td>1314.0</td>\n",
       "      <td>2880.5</td>\n",
       "      <td>1220.5</td>\n",
       "      <td>0.040000</td>\n",
       "      <td>0.029656</td>\n",
       "      <td>-0.027365</td>\n",
       "      <td>-0.040000</td>\n",
       "      <td>5097</td>\n",
       "      <td>3</td>\n",
       "    </tr>\n",
       "    <tr>\n",
       "      <th>99635</th>\n",
       "      <td>99997_0</td>\n",
       "      <td>590.5</td>\n",
       "      <td>833.0</td>\n",
       "      <td>797.5</td>\n",
       "      <td>2267.0</td>\n",
       "      <td>1754.5</td>\n",
       "      <td>2987.5</td>\n",
       "      <td>1005.5</td>\n",
       "      <td>0.127440</td>\n",
       "      <td>0.479524</td>\n",
       "      <td>-0.356135</td>\n",
       "      <td>-0.127440</td>\n",
       "      <td>143</td>\n",
       "      <td>4</td>\n",
       "    </tr>\n",
       "    <tr>\n",
       "      <th>99636</th>\n",
       "      <td>99998_0</td>\n",
       "      <td>863.0</td>\n",
       "      <td>1165.0</td>\n",
       "      <td>1725.0</td>\n",
       "      <td>2568.0</td>\n",
       "      <td>3954.0</td>\n",
       "      <td>2881.0</td>\n",
       "      <td>2766.0</td>\n",
       "      <td>-0.212511</td>\n",
       "      <td>0.196366</td>\n",
       "      <td>-0.544833</td>\n",
       "      <td>0.212511</td>\n",
       "      <td>3972</td>\n",
       "      <td>3</td>\n",
       "    </tr>\n",
       "    <tr>\n",
       "      <th>99637</th>\n",
       "      <td>99999_0</td>\n",
       "      <td>293.0</td>\n",
       "      <td>316.0</td>\n",
       "      <td>254.5</td>\n",
       "      <td>921.0</td>\n",
       "      <td>432.0</td>\n",
       "      <td>2880.0</td>\n",
       "      <td>191.0</td>\n",
       "      <td>0.361419</td>\n",
       "      <td>0.566993</td>\n",
       "      <td>-0.155080</td>\n",
       "      <td>-0.361419</td>\n",
       "      <td>1004</td>\n",
       "      <td>1</td>\n",
       "    </tr>\n",
       "  </tbody>\n",
       "</table>\n",
       "<p>99638 rows × 14 columns</p>\n",
       "</div>"
      ],
      "text/plain": [
       "            ID      B1      B2      B3      B4      B5      B6      B7  \\\n",
       "0          0_0   755.0  1205.5  1710.0  2739.0  3260.0  3060.0  2450.0   \n",
       "1          1_0   433.0   474.0   392.0  1914.0  1332.0  2970.0   489.0   \n",
       "2          2_0   868.0  1112.0  1187.0  2491.0  2498.0  2980.0  1771.0   \n",
       "3          3_0   528.0   659.0   756.5  1989.5  1808.0  2809.5  1311.5   \n",
       "4          4_0   447.5   591.0   624.5  1351.0  1530.0  2850.0  1123.0   \n",
       "...        ...     ...     ...     ...     ...     ...     ...     ...   \n",
       "99633  99995_0   588.0   805.0  1090.0  2178.5  3580.0  2954.5  2592.5   \n",
       "99634  99996_0  1052.5  1244.0  1341.5  1423.5  1314.0  2880.5  1220.5   \n",
       "99635  99997_0   590.5   833.0   797.5  2267.0  1754.5  2987.5  1005.5   \n",
       "99636  99998_0   863.0  1165.0  1725.0  2568.0  3954.0  2881.0  2766.0   \n",
       "99637  99999_0   293.0   316.0   254.5   921.0   432.0  2880.0   191.0   \n",
       "\n",
       "           NDWI      NDVI     MNDWI      NDBI  elevation  LULC  \n",
       "0     -0.086848  0.231288 -0.460083  0.086848        797     4  \n",
       "1      0.179298  0.660017 -0.475083 -0.179298        164     1  \n",
       "2     -0.001403  0.354541 -0.383934  0.001403        125     4  \n",
       "3      0.047795  0.449017 -0.465748 -0.047795       3643     1  \n",
       "4     -0.062131  0.367755 -0.442716  0.062131       1029     4  \n",
       "...         ...       ...       ...       ...        ...   ...  \n",
       "99633 -0.243379  0.333027 -0.632839  0.243379       4376     3  \n",
       "99634  0.040000  0.029656 -0.027365 -0.040000       5097     3  \n",
       "99635  0.127440  0.479524 -0.356135 -0.127440        143     4  \n",
       "99636 -0.212511  0.196366 -0.544833  0.212511       3972     3  \n",
       "99637  0.361419  0.566993 -0.155080 -0.361419       1004     1  \n",
       "\n",
       "[99638 rows x 14 columns]"
      ]
     },
     "execution_count": 54,
     "metadata": {},
     "output_type": "execute_result"
    }
   ],
   "source": [
    "# band_df[\"B1\"] = band_df[\"B1\"] .div(20000)\n",
    "# band_df[\"B2\"] = band_df[\"B2\"].div(20000)\n",
    "# band_df[\"B3\"] = band_df[\"B3\"].div(20000)\n",
    "# band_df[\"B4\"] = band_df[\"B4\"].div(20000)\n",
    "# band_df[\"B5\"] = band_df[\"B5\"].div(20000)\n",
    "# band_df[\"B6\"] = band_df[\"B6\"].div(20000)\n",
    "# band_df[\"B7\"] = band_df[\"B7\"].div(20000)\n",
    "# band_df[\"elevation\"] = band_df[\"elevation\"].div(10000)\n",
    "\n",
    "band_df[\"B1\"] = band_df[\"B1\"] \n",
    "band_df[\"B2\"] = band_df[\"B2\"]\n",
    "band_df[\"B3\"] = band_df[\"B3\"]\n",
    "band_df[\"B4\"] = band_df[\"B4\"]\n",
    "band_df[\"B5\"] = band_df[\"B5\"]\n",
    "band_df[\"B6\"] = band_df[\"B6\"]\n",
    "band_df[\"B7\"] = band_df[\"B7\"]\n",
    "band_df[\"elevation\"] = band_df[\"elevation\"]\n",
    "\n",
    "band_df"
   ]
  },
  {
   "cell_type": "code",
   "execution_count": 55,
   "metadata": {
    "id": "wE_0NiDXSiQ6"
   },
   "outputs": [],
   "source": [
    "Y = band_df.loc[:,'LULC'].values\n",
    "X = band_df.loc[:,'B1':'elevation'].values\n",
    "\n",
    "#we split the dataset into a test and training set\n",
    "train_x, test_x, train_y, test_y = train_test_split(X,Y , test_size=0.3, random_state=0)\n",
    "clf = LogisticRegression(solver='saga',multi_class='multinomial')\n"
   ]
  },
  {
   "cell_type": "code",
   "execution_count": 56,
   "metadata": {
    "colab": {
     "base_uri": "https://localhost:8080/"
    },
    "id": "8SpPUbSdUg4g",
    "outputId": "2b5041d3-2018-4cce-d53d-f7e552247c80"
   },
   "outputs": [
    {
     "name": "stderr",
     "output_type": "stream",
     "text": [
      "c:\\python\\python38\\lib\\site-packages\\sklearn\\linear_model\\_sag.py:328: ConvergenceWarning: The max_iter was reached which means the coef_ did not converge\n",
      "  warnings.warn(\"The max_iter was reached which means \"\n"
     ]
    },
    {
     "data": {
      "text/plain": [
       "0.7283554128194835"
      ]
     },
     "execution_count": 56,
     "metadata": {},
     "output_type": "execute_result"
    }
   ],
   "source": [
    "clf.fit(train_x, train_y)\n",
    "clf.score(test_x, test_y)"
   ]
  },
  {
   "cell_type": "code",
   "execution_count": 57,
   "metadata": {
    "colab": {
     "base_uri": "https://localhost:8080/"
    },
    "id": "CJ7W2mAUWDAP",
    "outputId": "d26cffca-e7b3-4506-c895-5c67023fd287"
   },
   "outputs": [
    {
     "name": "stdout",
     "output_type": "stream",
     "text": [
      "Intercept: \n",
      " [-8.00073751e-07  9.71358736e-08 -1.96266047e-06  1.11032826e-06\n",
      "  8.10095091e-08  4.75184463e-07  8.63306695e-07  1.35769424e-07]\n",
      "Coefficients: \n",
      " [[ 5.53116312e-04 -2.62364156e-03 -8.40583426e-05  1.83466192e-03\n",
      "   1.36905109e-03  1.49466156e-03 -3.97598326e-03  4.36135498e-06\n",
      "   3.49087661e-05 -3.12280421e-05 -4.36135498e-06 -2.82493889e-04]\n",
      " [ 5.16994086e-04 -6.05351686e-04 -7.72541130e-04  1.57236191e-04\n",
      "   1.86700961e-03 -3.90797181e-06 -2.21485940e-03 -9.82528307e-07\n",
      "  -1.86686050e-07  9.98258778e-07  9.82528307e-07  3.62045152e-04]\n",
      " [ 4.56452307e-06  5.55559544e-04  2.47466747e-05 -3.25407402e-04\n",
      "   1.74488174e-03 -3.50455771e-04 -1.27410820e-03 -1.36982498e-05\n",
      "  -6.29555413e-07 -1.49946406e-05  1.36982498e-05  6.78646593e-04]\n",
      " [-8.30876009e-04 -5.84486349e-04  3.71589145e-04  1.19763583e-03\n",
      "   1.46535776e-03  6.33445672e-04 -1.32761069e-03 -4.04669699e-06\n",
      "  -5.63245130e-06  7.13786213e-07  4.04669699e-06 -1.00141818e-03]\n",
      " [-6.98921886e-05  6.85179680e-04  6.26087609e-05 -5.88790501e-05\n",
      "  -3.12175241e-03 -3.41729010e-05  4.19113856e-03 -3.33943448e-06\n",
      "  -2.11538081e-05  1.82829749e-05  3.33943448e-06  4.39236566e-04]\n",
      " [-5.02544410e-04  1.52186424e-03  6.33260507e-04 -2.68449206e-03\n",
      "  -1.21274589e-03  1.56935005e-03  1.63149079e-03  3.36535529e-07\n",
      "  -4.39455758e-06  4.91023921e-06 -3.36535529e-07 -1.52896998e-03]\n",
      " [-6.68381614e-05  6.55497195e-04  4.77672794e-05  2.07268278e-04\n",
      "  -1.63851719e-03 -3.45290378e-03  1.94618733e-03  1.78025839e-05\n",
      "  -2.35799300e-06  2.11407548e-05 -1.78025839e-05  2.42834782e-03]\n",
      " [ 3.95475847e-04  3.95378942e-04 -2.83372895e-04 -3.28023708e-04\n",
      "  -4.73284722e-04  1.43983137e-04  1.02374487e-03 -4.33564844e-07\n",
      "  -5.53714597e-07  1.76668813e-07  4.33564844e-07 -1.09539408e-03]]\n"
     ]
    }
   ],
   "source": [
    "#Print model parameters\n",
    "print('Intercept: \\n', clf.intercept_)\n",
    "print('Coefficients: \\n', clf.coef_)"
   ]
  },
  {
   "cell_type": "code",
   "execution_count": null,
   "metadata": {
    "id": "BIkcE4vh4s9z"
   },
   "outputs": [],
   "source": []
  },
  {
   "cell_type": "code",
   "execution_count": null,
   "metadata": {
    "id": "g6DLMQfY7TME"
   },
   "outputs": [],
   "source": []
  },
  {
   "cell_type": "markdown",
   "metadata": {
    "id": "8hWjTAHwbGUJ"
   },
   "source": [
    "# Same thing again Ignore"
   ]
  },
  {
   "cell_type": "code",
   "execution_count": 11,
   "metadata": {
    "colab": {
     "base_uri": "https://localhost:8080/"
    },
    "id": "seuLM43wZnAH",
    "outputId": "3de04df5-ce5d-4110-eb02-0702df0e85e4"
   },
   "outputs": [
    {
     "name": "stdout",
     "output_type": "stream",
     "text": [
      "(79710, 12)\n",
      "(19928, 12)\n",
      "(79710,)\n",
      "(19928,)\n"
     ]
    }
   ],
   "source": [
    "X_train, X_test, y_train, y_test = train_test_split(X, Y, test_size = 0.20, random_state = 5)\n",
    "print(X_train.shape)\n",
    "print(X_test.shape)\n",
    "print(y_train.shape)\n",
    "print(y_test.shape)"
   ]
  },
  {
   "cell_type": "code",
   "execution_count": 12,
   "metadata": {
    "id": "U2vrMiSiZqv7"
   },
   "outputs": [],
   "source": [
    "# model1 = LogisticRegression(random_state=0, multi_class='multinomial', penalty='none', solver='newton-cg').fit(X_train, y_train)\n",
    "# preds = model1.predict(X_test)"
   ]
  },
  {
   "cell_type": "code",
   "execution_count": 13,
   "metadata": {
    "colab": {
     "base_uri": "https://localhost:8080/"
    },
    "id": "jOdXBIttaje3",
    "outputId": "df74e2f0-4617-456a-a237-6f68740398f1"
   },
   "outputs": [],
   "source": [
    "# model1.score(X_test, y_test)"
   ]
  },
  {
   "cell_type": "code",
   "execution_count": 14,
   "metadata": {
    "colab": {
     "base_uri": "https://localhost:8080/"
    },
    "id": "so1QWV0hZ2mE",
    "outputId": "e54d0e46-e120-4d06-efdc-3e2da95c6b77"
   },
   "outputs": [],
   "source": [
    "#print the tunable parameters (They were not tuned in this example, everything kept as default)\n",
    "# params = model1.get_params()\n",
    "# print(params)"
   ]
  },
  {
   "cell_type": "code",
   "execution_count": 15,
   "metadata": {
    "colab": {
     "base_uri": "https://localhost:8080/"
    },
    "id": "_uS_m1d-aeQj",
    "outputId": "96a734c0-a8cb-4d94-b440-9f5a7121159c"
   },
   "outputs": [],
   "source": [
    "#Print model parameters\n",
    "# print('Intercept: \\n', model1.intercept_)\n",
    "# print('Coefficients: \\n', model1.coef_)"
   ]
  },
  {
   "cell_type": "code",
   "execution_count": null,
   "metadata": {
    "id": "t7jkVObJazSO"
   },
   "outputs": [],
   "source": []
  },
  {
   "cell_type": "markdown",
   "metadata": {
    "id": "7yzrGIQ5g47d"
   },
   "source": [
    "# Random forest classifier"
   ]
  },
  {
   "cell_type": "code",
   "execution_count": 16,
   "metadata": {
    "id": "0B6NYqLRhfPQ"
   },
   "outputs": [],
   "source": [
    "from sklearn import ensemble"
   ]
  },
  {
   "cell_type": "code",
   "execution_count": 58,
   "metadata": {
    "id": "aByFeeGag4b_"
   },
   "outputs": [],
   "source": [
    "# feature_names = ['B2', 'B3', 'B4', 'B5', 'B6', 'B7']\n",
    "# label = \"landcover\"\n",
    "feature_names = ['B1', 'B2', 'B3', 'B4', 'B5', 'B6', 'B7', 'NDWI', 'NDVI', 'MNDWI', 'NDBI', 'elevation']\n",
    "label = 'LULC'\n"
   ]
  },
  {
   "cell_type": "code",
   "execution_count": 59,
   "metadata": {
    "id": "eZXQJuuHhLeZ"
   },
   "outputs": [],
   "source": [
    "df = band_df \n",
    "# Already divided by 20k and 10k"
   ]
  },
  {
   "cell_type": "code",
   "execution_count": 60,
   "metadata": {
    "id": "-XQbA9q9BLE5"
   },
   "outputs": [],
   "source": [
    "X = df[feature_names].head(4200)\n",
    "y = df[label].head(4200)\n",
    "\n",
    "n_trees = 10 \n",
    "rf = ensemble.RandomForestClassifier(n_trees).fit(X,y)\n",
    "\n",
    "trees =  ml.rf_to_strings(rf,feature_names)\n",
    "\n",
    "# print the first tree to see the result\n",
    "# print(trees[0])\n",
    "# print(trees[1])\n",
    "\n",
    "ml.trees_to_csv(trees, \"trees_all_4200.csv\")"
   ]
  },
  {
   "cell_type": "code",
   "execution_count": 66,
   "metadata": {},
   "outputs": [
    {
     "data": {
      "text/plain": [
       "0.7493978321959053"
      ]
     },
     "execution_count": 66,
     "metadata": {},
     "output_type": "execute_result"
    }
   ],
   "source": [
    "rf.score(test_x, test_y)"
   ]
  },
  {
   "cell_type": "code",
   "execution_count": null,
   "metadata": {
    "id": "RMkr49NBhSHp"
   },
   "outputs": [],
   "source": [
    "# import time\n",
    "# for i in range(1000, 26000, 5000):\n",
    "\n",
    "#   start_time = time.time()\n",
    "\n",
    "#   X = df[feature_names].head(i)\n",
    "#   y = df[label].head(i)\n",
    "\n",
    "#   n_trees = 10 \n",
    "#   rf = ensemble.RandomForestClassifier(n_trees).fit(X,y)\n",
    "\n",
    "#   trees =  ml.rf_to_strings(rf,feature_names)\n",
    "\n",
    "#   # print the first tree to see the result\n",
    "#   # print(trees[0])\n",
    "#   # print(trees[1])\n",
    "\n",
    "#   ml.trees_to_csv(trees, \"trees\" + str(i) + \".csv\")\n",
    "#   print(\"Rows number: \", i , \"  %s seconds\" % (time.time() - start_time))"
   ]
  },
  {
   "cell_type": "code",
   "execution_count": null,
   "metadata": {},
   "outputs": [],
   "source": []
  },
  {
   "cell_type": "code",
   "execution_count": null,
   "metadata": {},
   "outputs": [],
   "source": [
    "# upload data to online for later use"
   ]
  },
  {
   "cell_type": "code",
   "execution_count": 26,
   "metadata": {
    "id": "2cu0ffZShZUv"
   },
   "outputs": [],
   "source": [
    "import geemap\n",
    "import ee\n",
    "ee.Initialize()"
   ]
  },
  {
   "cell_type": "code",
   "execution_count": 61,
   "metadata": {
    "id": "qAoAX3_2hbFf"
   },
   "outputs": [],
   "source": [
    "user_id = geemap.ee_user_id()"
   ]
  },
  {
   "cell_type": "code",
   "execution_count": 62,
   "metadata": {
    "id": "gmiTdX6Hh7sp"
   },
   "outputs": [
    {
     "data": {
      "text/plain": [
       "'users/aaditya-rb/random_forest_strings_test'"
      ]
     },
     "execution_count": 62,
     "metadata": {},
     "output_type": "execute_result"
    }
   ],
   "source": [
    "asset_id = user_id +  \"/random_forest_strings_test\"\n",
    "asset_id"
   ]
  },
  {
   "cell_type": "code",
   "execution_count": 65,
   "metadata": {
    "id": "TMUAOq5onW3a"
   },
   "outputs": [],
   "source": [
    "# kick off an export process so it will be saved to the ee asset\n",
    "ml.export_trees_to_fc(trees,asset_id)"
   ]
  },
  {
   "cell_type": "code",
   "execution_count": 64,
   "metadata": {},
   "outputs": [
    {
     "data": {
      "text/plain": [
       "937814"
      ]
     },
     "execution_count": 64,
     "metadata": {},
     "output_type": "execute_result"
    }
   ],
   "source": [
    "with open(\"trees_all_4200.csv\", \"r\") as file1:\n",
    "    txxx = file1.read()\n",
    "    \n",
    "len(txxx)"
   ]
  },
  {
   "cell_type": "code",
   "execution_count": null,
   "metadata": {},
   "outputs": [],
   "source": []
  }
 ],
 "metadata": {
  "accelerator": "GPU",
  "colab": {
   "name": "04_Multinomial_Logistic_Regression.ipynb",
   "provenance": []
  },
  "kernelspec": {
   "display_name": "Python 3",
   "language": "python",
   "name": "python3"
  },
  "language_info": {
   "codemirror_mode": {
    "name": "ipython",
    "version": 3
   },
   "file_extension": ".py",
   "mimetype": "text/x-python",
   "name": "python",
   "nbconvert_exporter": "python",
   "pygments_lexer": "ipython3",
   "version": "3.8.10"
  }
 },
 "nbformat": 4,
 "nbformat_minor": 4
}
